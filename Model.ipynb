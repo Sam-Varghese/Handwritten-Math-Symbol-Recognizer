{
 "cells": [
  {
   "cell_type": "code",
   "execution_count": null,
   "metadata": {},
   "outputs": [],
   "source": [
    "import tensorflow as tf\n",
    "from keras.preprocessing import image\n",
    "import numpy as np\n",
    "from tensorflow.keras.preprocessing.image import ImageDataGenerator, load_img, array_to_img, img_to_array\n",
    "from tensorflow.keras.optimizers import RMSprop\n",
    "import os\n",
    "import random\n",
    "import shutil"
   ]
  },
  {
   "cell_type": "code",
   "execution_count": null,
   "metadata": {},
   "outputs": [],
   "source": [
    "base_dir = \"./dataset\"\n",
    "sub_directories = os.listdir(base_dir)\n",
    "print(len(sub_directories))\n",
    "print(sub_directories)"
   ]
  },
  {
   "cell_type": "code",
   "execution_count": null,
   "metadata": {},
   "outputs": [],
   "source": [
    "# Creating folders for train/ test set\n",
    "\n",
    "input(\"Are you sure you wanna make train and test folders again? \")\n",
    "\n",
    "base_dir = \"./dataset\"\n",
    "sub_directories = os.listdir(base_dir)\n",
    "\n",
    "train_dir = \"train_dataset\"\n",
    "test_dir = \"test_dataset\"\n",
    "\n",
    "os.mkdir(train_dir)\n",
    "os.mkdir(test_dir)\n",
    "\n",
    "for i in sub_directories:\n",
    "\n",
    "    os.mkdir(os.path.join(train_dir, i))\n",
    "    os.mkdir(os.path.join(test_dir, i))"
   ]
  },
  {
   "cell_type": "code",
   "execution_count": null,
   "metadata": {},
   "outputs": [],
   "source": [
    "# Code to split the entire dataset into train and test sets\n",
    "\n",
    "input(\"Are you sure you wanna split the entire dataset again? \")\n",
    "\n",
    "train_ratio = 0.9\n",
    "test_ratio = 0.1\n",
    "\n",
    "for i in sub_directories:\n",
    "\n",
    "    path = os.path.join(base_dir, i)\n",
    "\n",
    "    sub_dir_files = os.listdir(path)\n",
    "    len_sub_dir = len(sub_dir_files)\n",
    "    train_sub_dir_count = int(len_sub_dir*train_ratio)\n",
    "\n",
    "    train_files = random.sample(sub_dir_files, train_sub_dir_count)\n",
    "\n",
    "    test_files = [i for i in sub_dir_files if i not in train_files]\n",
    "\n",
    "    for j in train_files:\n",
    "\n",
    "        shutil.copy(os.path.join(base_dir, i, j), os.path.join(train_dir, i, j))\n",
    "\n",
    "    for j in test_files:\n",
    "\n",
    "        shutil.copy(os.path.join(base_dir, i, j), os.path.join(test_dir, i, j))"
   ]
  },
  {
   "cell_type": "code",
   "execution_count": null,
   "metadata": {},
   "outputs": [],
   "source": [
    "# Generating the model\n",
    "\n",
    "train_datagen = ImageDataGenerator(rescale = 1./255)\n",
    "test_datagen = ImageDataGenerator(rescale = 1./255)\n",
    "\n",
    "train_generator = train_datagen.flow_from_directory(\n",
    "    \"./test_dataset/\",\n",
    "    target_size = (100, 100),\n",
    "    batch_size = 128,\n",
    "    class_mode = \"categorical\"\n",
    ")\n",
    "test_generator = test_datagen.flow_from_directory(\n",
    "    \"./test_dataset/\",\n",
    "    target_size = (100, 100),\n",
    "    batch_size = 128,\n",
    "    class_mode = \"categorical\"\n",
    ")\n",
    "\n",
    "model = tf.keras.models.Sequential([\n",
    "    tf.keras.layers.Conv2D(16, (3, 3), activation = \"relu\", input_shape = (100, 100, 3)),\n",
    "    tf.keras.layers.MaxPooling2D(2, 2),\n",
    "\n",
    "    \n",
    "    tf.keras.layers.Conv2D(32, (3, 3), activation = \"relu\"),\n",
    "    tf.keras.layers.MaxPooling2D(2, 2),\n",
    "\n",
    "    tf.keras.layers.Conv2D(64, (3, 3), activation = \"relu\"),\n",
    "    tf.keras.layers.MaxPooling2D(2, 2),\n",
    "\n",
    "    tf.keras.layers.Flatten(),\n",
    "\n",
    "    tf.keras.layers.Dense(512, activation = \"relu\"),\n",
    "    tf.keras.layers.Dense(19, activation = \"softmax\")\n",
    "])\n",
    "\n",
    "model.compile(\n",
    "    optimizer = RMSprop(learning_rate = 0.001),\n",
    "    loss = \"binary_crossentropy\",\n",
    "    metrics = [\"accuracy\"]\n",
    ")\n",
    "\n",
    "history = model.fit(\n",
    "    train_generator,\n",
    "    epochs = 15,\n",
    "    validation_data = test_generator,\n",
    "    verbose = 2\n",
    ")\n"
   ]
  },
  {
   "cell_type": "code",
   "execution_count": null,
   "metadata": {},
   "outputs": [],
   "source": [
    "# For testing this model personally, open Microsoft paint, make the canvas size 100 * 100 (for better prediction, and draw math symbols)\n",
    "\n",
    "img = load_img(\"./self_checking/9.png\", target_size = (100, 100))\n",
    "x   = img_to_array(img)                           # Numpy array with shape (150, 150, 3)\n",
    "x   = x.reshape((1,) + x.shape)                   # Numpy array with shape (1, 150, 150, 3)\n",
    "\n",
    "# Scale by 1/255\n",
    "x /= 255.0\n",
    "\n",
    "# Run the image through the network, thus obtaining all\n",
    "# intermediate representations for this image.\n",
    "successive_feature_maps = model.predict(x)"
   ]
  },
  {
   "cell_type": "code",
   "execution_count": null,
   "metadata": {},
   "outputs": [],
   "source": [
    "class_details = {}\n",
    "counter = 0\n",
    "for i in sub_directories:\n",
    "\n",
    "    class_details[counter] = i\n",
    "    counter += 1\n",
    "\n",
    "class_details"
   ]
  },
  {
   "cell_type": "code",
   "execution_count": null,
   "metadata": {},
   "outputs": [],
   "source": [
    "class_details[np.where(successive_feature_maps[0] == max(successive_feature_maps[0]))[0][0]]\n",
    "\n",
    "# If the model works shit, please forgive me 😁"
   ]
  }
 ],
 "metadata": {
  "kernelspec": {
   "display_name": "Python 3.10.5 64-bit",
   "language": "python",
   "name": "python3"
  },
  "language_info": {
   "codemirror_mode": {
    "name": "ipython",
    "version": 3
   },
   "file_extension": ".py",
   "mimetype": "text/x-python",
   "name": "python",
   "nbconvert_exporter": "python",
   "pygments_lexer": "ipython3",
   "version": "3.10.5"
  },
  "orig_nbformat": 4,
  "vscode": {
   "interpreter": {
    "hash": "c9469ccdb9909bf8ae53e53989a83866ae2608bf3b53aa81908df53e67f16189"
   }
  }
 },
 "nbformat": 4,
 "nbformat_minor": 2
}
