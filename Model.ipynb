{
 "cells": [
  {
   "cell_type": "code",
   "execution_count": 1,
   "metadata": {},
   "outputs": [],
   "source": [
    "import tensorflow as tf\n",
    "from keras.preprocessing import image\n",
    "import numpy as np\n",
    "from tensorflow.keras.preprocessing.image import ImageDataGenerator, load_img, array_to_img, img_to_array\n",
    "from tensorflow.keras.optimizers import RMSprop\n",
    "import os\n",
    "import random\n",
    "import shutil"
   ]
  },
  {
   "cell_type": "code",
   "execution_count": 2,
   "metadata": {},
   "outputs": [
    {
     "name": "stdout",
     "output_type": "stream",
     "text": [
      "19\n",
      "['0', '1', '2', '3', '4', '5', '6', '7', '8', '9', 'add', 'dec', 'div', 'eq', 'mul', 'sub', 'x', 'y', 'z']\n"
     ]
    }
   ],
   "source": [
    "base_dir = \"./dataset\"\n",
    "sub_directories = os.listdir(base_dir)\n",
    "print(len(sub_directories))\n",
    "print(sub_directories)"
   ]
  },
  {
   "cell_type": "code",
   "execution_count": 3,
   "metadata": {},
   "outputs": [
    {
     "ename": "FileExistsError",
     "evalue": "[WinError 183] Cannot create a file when that file already exists: 'train_dataset'",
     "output_type": "error",
     "traceback": [
      "\u001b[1;31m---------------------------------------------------------------------------\u001b[0m",
      "\u001b[1;31mFileExistsError\u001b[0m                           Traceback (most recent call last)",
      "\u001b[1;32md:\\Downloads\\MathDataset\\Model.ipynb Cell 3\u001b[0m in \u001b[0;36m<cell line: 11>\u001b[1;34m()\u001b[0m\n\u001b[0;32m      <a href='vscode-notebook-cell:/d%3A/Downloads/MathDataset/Model.ipynb#W2sZmlsZQ%3D%3D?line=7'>8</a>\u001b[0m train_dir \u001b[39m=\u001b[39m \u001b[39m\"\u001b[39m\u001b[39mtrain_dataset\u001b[39m\u001b[39m\"\u001b[39m\n\u001b[0;32m      <a href='vscode-notebook-cell:/d%3A/Downloads/MathDataset/Model.ipynb#W2sZmlsZQ%3D%3D?line=8'>9</a>\u001b[0m test_dir \u001b[39m=\u001b[39m \u001b[39m\"\u001b[39m\u001b[39mtest_dataset\u001b[39m\u001b[39m\"\u001b[39m\n\u001b[1;32m---> <a href='vscode-notebook-cell:/d%3A/Downloads/MathDataset/Model.ipynb#W2sZmlsZQ%3D%3D?line=10'>11</a>\u001b[0m os\u001b[39m.\u001b[39;49mmkdir(train_dir)\n\u001b[0;32m     <a href='vscode-notebook-cell:/d%3A/Downloads/MathDataset/Model.ipynb#W2sZmlsZQ%3D%3D?line=11'>12</a>\u001b[0m os\u001b[39m.\u001b[39mmkdir(test_dir)\n\u001b[0;32m     <a href='vscode-notebook-cell:/d%3A/Downloads/MathDataset/Model.ipynb#W2sZmlsZQ%3D%3D?line=13'>14</a>\u001b[0m \u001b[39mfor\u001b[39;00m i \u001b[39min\u001b[39;00m sub_directories:\n",
      "\u001b[1;31mFileExistsError\u001b[0m: [WinError 183] Cannot create a file when that file already exists: 'train_dataset'"
     ]
    }
   ],
   "source": [
    "# Creating folders for train/ test set\n",
    "\n",
    "inp = input(\"Are you sure you wanna make train and test folders again? \")\n",
    "\n",
    "if inp == \"n\":\n",
    "\n",
    "    pass\n",
    "\n",
    "else :\n",
    "\n",
    "    base_dir = \"./dataset\"\n",
    "    sub_directories = os.listdir(base_dir)\n",
    "\n",
    "    train_dir = \"train_dataset\"\n",
    "    test_dir = \"test_dataset\"\n",
    "\n",
    "    os.mkdir(train_dir)\n",
    "    os.mkdir(test_dir)\n",
    "\n",
    "    for i in sub_directories:\n",
    "\n",
    "        os.mkdir(os.path.join(train_dir, i))\n",
    "        os.mkdir(os.path.join(test_dir, i))"
   ]
  },
  {
   "cell_type": "code",
   "execution_count": null,
   "metadata": {},
   "outputs": [],
   "source": [
    "# Code to split the entire dataset into train and test sets\n",
    "\n",
    "input(\"Are you sure you wanna split the entire dataset again? \")\n",
    "\n",
    "train_ratio = 0.9\n",
    "test_ratio = 0.1\n",
    "\n",
    "for i in sub_directories:\n",
    "\n",
    "    path = os.path.join(base_dir, i)\n",
    "\n",
    "    sub_dir_files = os.listdir(path)\n",
    "    len_sub_dir = len(sub_dir_files)\n",
    "    train_sub_dir_count = int(len_sub_dir*train_ratio)\n",
    "\n",
    "    train_files = random.sample(sub_dir_files, train_sub_dir_count)\n",
    "\n",
    "    test_files = [i for i in sub_dir_files if i not in train_files]\n",
    "\n",
    "    for j in train_files:\n",
    "\n",
    "        shutil.copy(os.path.join(base_dir, i, j), os.path.join(train_dir, i, j))\n",
    "\n",
    "    for j in test_files:\n",
    "\n",
    "        shutil.copy(os.path.join(base_dir, i, j), os.path.join(test_dir, i, j))"
   ]
  },
  {
   "cell_type": "code",
   "execution_count": 19,
   "metadata": {},
   "outputs": [
    {
     "name": "stdout",
     "output_type": "stream",
     "text": [
      "Found 1018 images belonging to 19 classes.\n",
      "Found 1018 images belonging to 19 classes.\n",
      "Epoch 1/20\n",
      "8/8 - 7s - loss: 0.3125 - accuracy: 0.0668 - val_loss: 0.2025 - val_accuracy: 0.1238 - 7s/epoch - 859ms/step\n",
      "Epoch 2/20\n",
      "8/8 - 6s - loss: 0.2014 - accuracy: 0.2024 - val_loss: 0.1794 - val_accuracy: 0.3988 - 6s/epoch - 698ms/step\n",
      "Epoch 3/20\n",
      "8/8 - 6s - loss: 0.1740 - accuracy: 0.4047 - val_loss: 0.1553 - val_accuracy: 0.4804 - 6s/epoch - 690ms/step\n",
      "Epoch 4/20\n",
      "8/8 - 5s - loss: 0.1482 - accuracy: 0.4578 - val_loss: 0.1334 - val_accuracy: 0.5373 - 5s/epoch - 667ms/step\n",
      "Epoch 5/20\n",
      "8/8 - 5s - loss: 0.1298 - accuracy: 0.5540 - val_loss: 0.1212 - val_accuracy: 0.6297 - 5s/epoch - 673ms/step\n",
      "Epoch 6/20\n",
      "8/8 - 5s - loss: 0.1196 - accuracy: 0.6287 - val_loss: 0.0982 - val_accuracy: 0.6601 - 5s/epoch - 679ms/step\n",
      "Epoch 7/20\n",
      "8/8 - 5s - loss: 0.1004 - accuracy: 0.6670 - val_loss: 0.0885 - val_accuracy: 0.7515 - 5s/epoch - 687ms/step\n",
      "Epoch 8/20\n",
      "8/8 - 6s - loss: 0.0915 - accuracy: 0.7191 - val_loss: 0.0665 - val_accuracy: 0.8173 - 6s/epoch - 692ms/step\n",
      "Epoch 9/20\n",
      "8/8 - 5s - loss: 0.0804 - accuracy: 0.7760 - val_loss: 0.0658 - val_accuracy: 0.8065 - 5s/epoch - 679ms/step\n",
      "Epoch 10/20\n",
      "8/8 - 5s - loss: 0.0567 - accuracy: 0.8418 - val_loss: 0.0433 - val_accuracy: 0.8861 - 5s/epoch - 683ms/step\n",
      "Epoch 11/20\n",
      "8/8 - 5s - loss: 0.0572 - accuracy: 0.8477 - val_loss: 0.0403 - val_accuracy: 0.9067 - 5s/epoch - 678ms/step\n",
      "Epoch 12/20\n",
      "8/8 - 5s - loss: 0.0452 - accuracy: 0.8959 - val_loss: 0.0376 - val_accuracy: 0.9322 - 5s/epoch - 673ms/step\n",
      "Epoch 13/20\n",
      "8/8 - 6s - loss: 0.0371 - accuracy: 0.9185 - val_loss: 0.0721 - val_accuracy: 0.8026 - 6s/epoch - 761ms/step\n",
      "Epoch 14/20\n",
      "8/8 - 5s - loss: 0.0346 - accuracy: 0.9244 - val_loss: 0.0157 - val_accuracy: 0.9843 - 5s/epoch - 665ms/step\n",
      "Epoch 15/20\n",
      "8/8 - 5s - loss: 0.0229 - accuracy: 0.9538 - val_loss: 0.0223 - val_accuracy: 0.9686 - 5s/epoch - 670ms/step\n",
      "Epoch 16/20\n",
      "8/8 - 5s - loss: 0.0191 - accuracy: 0.9715 - val_loss: 0.0173 - val_accuracy: 0.9725 - 5s/epoch - 645ms/step\n",
      "Epoch 17/20\n",
      "8/8 - 5s - loss: 0.0232 - accuracy: 0.9676 - val_loss: 0.0234 - val_accuracy: 0.9843 - 5s/epoch - 649ms/step\n",
      "Epoch 18/20\n",
      "8/8 - 5s - loss: 0.0106 - accuracy: 0.9951 - val_loss: 0.0053 - val_accuracy: 0.9990 - 5s/epoch - 672ms/step\n",
      "Epoch 19/20\n",
      "8/8 - 5s - loss: 0.0046 - accuracy: 1.0000 - val_loss: 0.0070 - val_accuracy: 0.9971 - 5s/epoch - 679ms/step\n",
      "Epoch 20/20\n",
      "8/8 - 5s - loss: 0.0106 - accuracy: 0.9931 - val_loss: 0.0034 - val_accuracy: 1.0000 - 5s/epoch - 663ms/step\n"
     ]
    }
   ],
   "source": [
    "# Generating the model\n",
    "\n",
    "train_datagen = ImageDataGenerator(rescale = 1./255)\n",
    "test_datagen = ImageDataGenerator(rescale = 1./255)\n",
    "\n",
    "train_generator = train_datagen.flow_from_directory(\n",
    "    \"./test_dataset/\",\n",
    "    target_size = (100, 100),\n",
    "    batch_size = 128,\n",
    "    class_mode = \"categorical\"\n",
    ")\n",
    "test_generator = test_datagen.flow_from_directory(\n",
    "    \"./test_dataset/\",\n",
    "    target_size = (100, 100),\n",
    "    batch_size = 128,\n",
    "    class_mode = \"categorical\"\n",
    ")\n",
    "\n",
    "model = tf.keras.models.Sequential([\n",
    "    tf.keras.layers.Conv2D(16, (3, 3), activation = \"relu\", input_shape = (100, 100, 3)),\n",
    "    tf.keras.layers.MaxPooling2D(2, 2),\n",
    "\n",
    "    \n",
    "    tf.keras.layers.Conv2D(32, (3, 3), activation = \"relu\"),\n",
    "    tf.keras.layers.MaxPooling2D(2, 2),\n",
    "\n",
    "    tf.keras.layers.Conv2D(64, (3, 3), activation = \"relu\"),\n",
    "    tf.keras.layers.MaxPooling2D(2, 2),\n",
    "\n",
    "    tf.keras.layers.Flatten(),\n",
    "\n",
    "    tf.keras.layers.Dense(512, activation = \"relu\"),\n",
    "    tf.keras.layers.Dense(19, activation = \"softmax\")\n",
    "])\n",
    "\n",
    "model.compile(\n",
    "    optimizer = RMSprop(learning_rate = 0.001),\n",
    "    loss = \"binary_crossentropy\",\n",
    "    metrics = [\"accuracy\"]\n",
    ")\n",
    "\n",
    "history = model.fit(\n",
    "    train_generator,\n",
    "    epochs = 20,\n",
    "    validation_data = test_generator,\n",
    "    verbose = 2\n",
    ")\n"
   ]
  },
  {
   "cell_type": "code",
   "execution_count": 20,
   "metadata": {},
   "outputs": [
    {
     "name": "stdout",
     "output_type": "stream",
     "text": [
      "1/1 [==============================] - 0s 99ms/step\n"
     ]
    }
   ],
   "source": [
    "# For testing this model personally, open Microsoft paint, make the canvas size 100 * 100 (for better prediction, and draw math symbols)\n",
    "\n",
    "img = load_img(\"./self_checking/9.png\", target_size = (100, 100))\n",
    "x   = img_to_array(img)                           # Numpy array with shape (150, 150, 3)\n",
    "x   = x.reshape((1,) + x.shape)                   # Numpy array with shape (1, 150, 150, 3)\n",
    "\n",
    "# Scale by 1/255\n",
    "x /= 255.0\n",
    "\n",
    "# Run the image through the network, thus obtaining all\n",
    "# intermediate representations for this image.\n",
    "successive_feature_maps = model.predict(x)"
   ]
  },
  {
   "cell_type": "code",
   "execution_count": null,
   "metadata": {},
   "outputs": [],
   "source": [
    "class_details = {}\n",
    "counter = 0\n",
    "for i in sub_directories:\n",
    "\n",
    "    class_details[counter] = i\n",
    "    counter += 1\n",
    "\n",
    "class_details"
   ]
  },
  {
   "cell_type": "code",
   "execution_count": 21,
   "metadata": {},
   "outputs": [
    {
     "data": {
      "text/plain": [
       "'3'"
      ]
     },
     "execution_count": 21,
     "metadata": {},
     "output_type": "execute_result"
    }
   ],
   "source": [
    "class_details[np.where(successive_feature_maps[0] == max(successive_feature_maps[0]))[0][0]]\n",
    "\n",
    "# If the model works shit, please forgive me 😁"
   ]
  }
 ],
 "metadata": {
  "kernelspec": {
   "display_name": "Python 3.10.5 64-bit",
   "language": "python",
   "name": "python3"
  },
  "language_info": {
   "codemirror_mode": {
    "name": "ipython",
    "version": 3
   },
   "file_extension": ".py",
   "mimetype": "text/x-python",
   "name": "python",
   "nbconvert_exporter": "python",
   "pygments_lexer": "ipython3",
   "version": "3.10.5"
  },
  "orig_nbformat": 4,
  "vscode": {
   "interpreter": {
    "hash": "c9469ccdb9909bf8ae53e53989a83866ae2608bf3b53aa81908df53e67f16189"
   }
  }
 },
 "nbformat": 4,
 "nbformat_minor": 2
}
